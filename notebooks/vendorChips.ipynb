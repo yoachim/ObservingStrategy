{
 "cells": [
  {
   "cell_type": "markdown",
   "metadata": {},
   "source": [
    "Look at what happens if we have chips from different vendors"
   ]
  },
  {
   "cell_type": "code",
   "execution_count": 1,
   "metadata": {
    "collapsed": false
   },
   "outputs": [
    {
     "name": "stderr",
     "output_type": "stream",
     "text": [
      "WARNING: AstropyDeprecationWarning: Config parameter 'default_cosmology' in section [astropy.cosmology.core] is deprecated. Use science state astropy.cosmology.core.default_cosmology instead. [astropy.utils.state]\n",
      "WARNING:astropy:AstropyDeprecationWarning: Config parameter 'default_cosmology' in section [astropy.cosmology.core] is deprecated. Use science state astropy.cosmology.core.default_cosmology instead.\n"
     ]
    }
   ],
   "source": [
    "import numpy as np\n",
    "import matplotlib.pyplot as plt\n",
    "%matplotlib inline\n",
    "import lsst.sims.maf.slicers as slicers\n",
    "import lsst.sims.maf.metrics as metrics\n",
    "import lsst.sims.maf.metricBundles as metricBundles\n",
    "import lsst.sims.maf.db as db\n",
    "from lsst.sims.maf.plots import PlotHandler"
   ]
  },
  {
   "cell_type": "code",
   "execution_count": 2,
   "metadata": {
    "collapsed": false
   },
   "outputs": [],
   "source": [
    "# Set the database and query\n",
    "database = 'enigma_1189_sqlite.db'\n",
    "#sqlWhere = 'filter = \"r\" and night < 200 and fieldRA < %f and fieldDec > %f and fieldDec < 0' % (np.radians(15), np.radians(-15))\n",
    "sqlWhere = 'filter = \"r\" and expMJD < 49547.36 and fieldRA < %f and fieldDec > %f and fieldDec < 0' % (np.radians(15.), np.radians(-15.))\n",
    "opsdb = db.OpsimDatabase(database)\n",
    "outDir = 'Vendor'\n",
    "resultsDb = db.ResultsDb(outDir=outDir)"
   ]
  },
  {
   "cell_type": "code",
   "execution_count": 15,
   "metadata": {
    "collapsed": false
   },
   "outputs": [
    {
     "name": "stdout",
     "output_type": "stream",
     "text": [
      "Healpix slicer using NSIDE=512, approximate resolution 6.870973 arcminutes\n",
      "Healpix slicer using NSIDE=512, approximate resolution 6.870973 arcminutes\n"
     ]
    }
   ],
   "source": [
    "nside=512\n",
    "metric1 = metrics.CountMetric('expMJD')\n",
    "metric2 = metrics.ChipVendorMetric('expMJD')\n",
    "slicer = slicers.HealpixSlicer(nside=nside)\n",
    "slicer2 = slicers.HealpixSlicer(nside=nside, useCamera=True, radius=1.9)\n",
    "summaryMetrics = [metrics.SumMetric()]"
   ]
  },
  {
   "cell_type": "code",
   "execution_count": 16,
   "metadata": {
    "collapsed": false
   },
   "outputs": [
    {
     "name": "stdout",
     "output_type": "stream",
     "text": [
      "Querying database with constraint filter = \"r\" and expMJD < 49547.36 and fieldRA < 0.261799 and fieldDec > -0.261799 and fieldDec < 0\n",
      "Found 1 visits\n",
      "Running:  ['NoCamera']\n",
      "Completed metric generation.\n",
      "Running:  ['WithCamera']\n",
      "Completed metric generation.\n",
      "Running reduce methods.\n",
      "Running summary statistics.\n",
      "Completed.\n"
     ]
    }
   ],
   "source": [
    "bundle1 = metricBundles.MetricBundle(metric1,slicer,sqlWhere, summaryMetrics=summaryMetrics)\n",
    "bundle2 = metricBundles.MetricBundle(metric2,slicer2,sqlWhere, summaryMetrics=summaryMetrics)\n",
    "bg = metricBundles.MetricBundleGroup({'NoCamera':bundle1, 'WithCamera':bundle2},opsdb, outDir=outDir, resultsDb=resultsDb)\n",
    "bg.runAll()"
   ]
  },
  {
   "cell_type": "code",
   "execution_count": 20,
   "metadata": {
    "collapsed": false
   },
   "outputs": [
    {
     "data": {
      "image/png": "[encoded data removed]",
      "text/plain": [
       "<matplotlib.figure.Figure at 0x14b5fd8d0>"
      ]
     },
     "metadata": {},
     "output_type": "display_data"
    },
    {
     "data": {
      "image/png": "[encoded data removed]",
      "text/plain": [
       "<matplotlib.figure.Figure at 0x14b5fde10>"
      ]
     },
     "metadata": {},
     "output_type": "display_data"
    }
   ],
   "source": [
    "import healpy as hp\n",
    "hp.gnomview(bundle1.metricValues, xsize=800,ysize=800, rot=(7,-7,0), title='No Camera', unit='Count')\n",
    "hp.gnomview(bundle2.metricValues, xsize=800,ysize=800, rot=(7,-7,0),title='With Camera', unit='Vendor')"
   ]
  },
  {
   "cell_type": "code",
   "execution_count": 18,
   "metadata": {
    "collapsed": false
   },
   "outputs": [
    {
     "name": "stdout",
     "output_type": "stream",
     "text": [
      "Healpix slicer using NSIDE=512, approximate resolution 6.870973 arcminutes\n",
      "Querying database with constraint fieldID = 2266 and expMJD < 49593.3\n",
      "Found 1 visits\n",
      "Running:  ['WithCamera']\n",
      "Completed metric generation.\n",
      "Running reduce methods.\n",
      "Running summary statistics.\n",
      "Completed.\n"
     ]
    }
   ],
   "source": [
    "# Check to see what my vendor pattern looks like on a single chip\n",
    "nside=512\n",
    "slicer2 = slicers.HealpixSlicer(nside=nside, useCamera=True, radius=1.9)\n",
    "sqlWhere = 'fieldID = 2266 and expMJD < 49593.3'\n",
    "#sqlWhere = 'filter = \"r\" and expMJD < 49547.36 and fieldRA < %f and fieldDec > %f and fieldDec < 0' % (np.radians(15.), np.radians(-15.))\n",
    "bundle2 = metricBundles.MetricBundle(metric2,slicer2,sqlWhere, summaryMetrics=summaryMetrics)\n",
    "bg = metricBundles.MetricBundleGroup({'WithCamera':bundle2},opsdb, outDir=outDir, \n",
    "                                     resultsDb=resultsDb)\n",
    "bg.runAll()\n"
   ]
  },
  {
   "cell_type": "code",
   "execution_count": 19,
   "metadata": {
    "collapsed": false
   },
   "outputs": [
    {
     "data": {
      "image/png": "[encoded data removed]",
      "text/plain": [
       "<matplotlib.figure.Figure at 0x1312e8390>"
      ]
     },
     "metadata": {},
     "output_type": "display_data"
    }
   ],
   "source": [
    "hp.gnomview(bundle2.metricValues, xsize=400,ysize=400, rot=(48,-9,0),\n",
    "            title='With Camera', unit='Vendor')\n"
   ]
  },
  {
   "cell_type": "code",
   "execution_count": null,
   "metadata": {
    "collapsed": false
   },
   "outputs": [],
   "source": []
  },
  {
   "cell_type": "code",
   "execution_count": null,
   "metadata": {
    "collapsed": false
   },
   "outputs": [],
   "source": []
  },
  {
   "cell_type": "code",
   "execution_count": null,
   "metadata": {
    "collapsed": false
   },
   "outputs": [],
   "source": []
  },
  {
   "cell_type": "code",
   "execution_count": null,
   "metadata": {
    "collapsed": false
   },
   "outputs": [],
   "source": [
    "\n"
   ]
  },
  {
   "cell_type": "code",
   "execution_count": null,
   "metadata": {
    "collapsed": false
   },
   "outputs": [],
   "source": []
  },
  {
   "cell_type": "code",
   "execution_count": null,
   "metadata": {
    "collapsed": true
   },
   "outputs": [],
   "source": []
  }
 ],
 "metadata": {
  "kernelspec": {
   "display_name": "Python 2",
   "language": "python",
   "name": "python2"
  },
  "language_info": {
   "codemirror_mode": {
    "name": "ipython",
    "version": 2
   },
   "file_extension": ".py",
   "mimetype": "text/x-python",
   "name": "python",
   "nbconvert_exporter": "python",
   "pygments_lexer": "ipython2",
   "version": "2.7.9"
  }
 },
 "nbformat": 4,
 "nbformat_minor": 0
}
