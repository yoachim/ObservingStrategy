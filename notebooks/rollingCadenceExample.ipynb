{
 "cells": [
  {
   "cell_type": "markdown",
   "metadata": {},
   "source": [
    "Show an example of how rolling cadence changes the distribution of visits"
   ]
  },
  {
   "cell_type": "code",
   "execution_count": 2,
   "metadata": {
    "collapsed": false
   },
   "outputs": [],
   "source": [
    "%matplotlib inline\n",
    "import numpy as np\n",
    "import matplotlib.pyplot as plt\n",
    "import healpy as hp\n",
    "import lsst.sims.maf.db as db\n",
    "import lsst.sims.maf.utils as utils\n",
    "import lsst.sims.maf.metrics as metrics\n",
    "import lsst.sims.maf.slicers as slicers\n",
    "import lsst.sims.maf.metricBundles as metricBundles"
   ]
  },
  {
   "cell_type": "code",
   "execution_count": 3,
   "metadata": {
    "collapsed": false
   },
   "outputs": [
    {
     "ename": "IOError",
     "evalue": "Sqlite database file \"ops2_1098_sqlite.db\" not found.",
     "output_type": "error",
     "traceback": [
      "\u001b[0;31m---------------------------------------------------------------------------\u001b[0m",
      "\u001b[0;31mIOError\u001b[0m                                   Traceback (most recent call last)",
      "\u001b[0;32m<ipython-input-3-2011a4e4b17b>\u001b[0m in \u001b[0;36m<module>\u001b[0;34m()\u001b[0m\n\u001b[1;32m      1\u001b[0m \u001b[0moutDir\u001b[0m \u001b[0;34m=\u001b[0m\u001b[0;34m'Rolling'\u001b[0m\u001b[0;34m\u001b[0m\u001b[0m\n\u001b[1;32m      2\u001b[0m \u001b[0mdbFile\u001b[0m \u001b[0;34m=\u001b[0m \u001b[0;34m'ops2_1098_sqlite.db'\u001b[0m\u001b[0;34m\u001b[0m\u001b[0m\n\u001b[0;32m----> 3\u001b[0;31m \u001b[0mopsimdb\u001b[0m \u001b[0;34m=\u001b[0m \u001b[0mutils\u001b[0m\u001b[0;34m.\u001b[0m\u001b[0mconnectOpsimDb\u001b[0m\u001b[0;34m(\u001b[0m\u001b[0mdbFile\u001b[0m\u001b[0;34m)\u001b[0m\u001b[0;34m\u001b[0m\u001b[0m\n\u001b[0m\u001b[1;32m      4\u001b[0m \u001b[0mresultsDb\u001b[0m \u001b[0;34m=\u001b[0m \u001b[0mdb\u001b[0m\u001b[0;34m.\u001b[0m\u001b[0mResultsDb\u001b[0m\u001b[0;34m(\u001b[0m\u001b[0moutDir\u001b[0m\u001b[0;34m=\u001b[0m\u001b[0moutDir\u001b[0m\u001b[0;34m)\u001b[0m\u001b[0;34m\u001b[0m\u001b[0m\n\u001b[1;32m      5\u001b[0m \u001b[0mnightLimits\u001b[0m \u001b[0;34m=\u001b[0m \u001b[0;34m(\u001b[0m\u001b[0mnp\u001b[0m\u001b[0;34m.\u001b[0m\u001b[0marange\u001b[0m\u001b[0;34m(\u001b[0m\u001b[0;36m3\u001b[0m\u001b[0;34m)\u001b[0m\u001b[0;34m+\u001b[0m\u001b[0;36m1\u001b[0m\u001b[0;34m)\u001b[0m\u001b[0;34m*\u001b[0m\u001b[0;36m365\u001b[0m\u001b[0;34m\u001b[0m\u001b[0m\n",
      "\u001b[0;32m/Users/yoachim/gitRepos/sims_maf/python/lsst/sims/maf/utils/opsimUtils.pyc\u001b[0m in \u001b[0;36mconnectOpsimDb\u001b[0;34m(database, summaryOnly, summaryTable)\u001b[0m\n\u001b[1;32m     21\u001b[0m     \u001b[0;32melse\u001b[0m\u001b[0;34m:\u001b[0m\u001b[0;34m\u001b[0m\u001b[0m\n\u001b[1;32m     22\u001b[0m         \u001b[0;31m# For a basic db connection to the sqlite db files.\u001b[0m\u001b[0;34m\u001b[0m\u001b[0;34m\u001b[0m\u001b[0m\n\u001b[0;32m---> 23\u001b[0;31m         \u001b[0mopsimdb\u001b[0m \u001b[0;34m=\u001b[0m \u001b[0mdb\u001b[0m\u001b[0;34m.\u001b[0m\u001b[0mOpsimDatabase\u001b[0m\u001b[0;34m(\u001b[0m\u001b[0mdatabase\u001b[0m\u001b[0;34m=\u001b[0m\u001b[0mdatabase\u001b[0m\u001b[0;34m)\u001b[0m\u001b[0;34m\u001b[0m\u001b[0m\n\u001b[0m\u001b[1;32m     24\u001b[0m     \u001b[0;32mreturn\u001b[0m \u001b[0mopsimdb\u001b[0m\u001b[0;34m\u001b[0m\u001b[0m\n\u001b[1;32m     25\u001b[0m \u001b[0;34m\u001b[0m\u001b[0m\n",
      "\u001b[0;32m/Users/yoachim/gitRepos/sims_maf/python/lsst/sims/maf/db/opsimDatabase.pyc\u001b[0m in \u001b[0;36m__init__\u001b[0;34m(self, database, driver, host, port, dbTables, *args, **kwargs)\u001b[0m\n\u001b[1;32m     51\u001b[0m                                             \u001b[0mdbTables\u001b[0m\u001b[0;34m=\u001b[0m\u001b[0mdbTables\u001b[0m\u001b[0;34m,\u001b[0m\u001b[0;34m\u001b[0m\u001b[0m\n\u001b[1;32m     52\u001b[0m                                             \u001b[0mdefaultdbTables\u001b[0m\u001b[0;34m=\u001b[0m\u001b[0mdefaultdbTables\u001b[0m\u001b[0;34m,\u001b[0m\u001b[0;34m\u001b[0m\u001b[0m\n\u001b[0;32m---> 53\u001b[0;31m                                             *args, **kwargs)\n\u001b[0m\u001b[1;32m     54\u001b[0m         \u001b[0;31m# Save filterlist so that we get the filter info per proposal in this desired order.\u001b[0m\u001b[0;34m\u001b[0m\u001b[0;34m\u001b[0m\u001b[0m\n\u001b[1;32m     55\u001b[0m         \u001b[0mself\u001b[0m\u001b[0;34m.\u001b[0m\u001b[0mfilterlist\u001b[0m \u001b[0;34m=\u001b[0m \u001b[0mnp\u001b[0m\u001b[0;34m.\u001b[0m\u001b[0marray\u001b[0m\u001b[0;34m(\u001b[0m\u001b[0;34m[\u001b[0m\u001b[0;34m'u'\u001b[0m\u001b[0;34m,\u001b[0m \u001b[0;34m'g'\u001b[0m\u001b[0;34m,\u001b[0m \u001b[0;34m'r'\u001b[0m\u001b[0;34m,\u001b[0m \u001b[0;34m'i'\u001b[0m\u001b[0;34m,\u001b[0m \u001b[0;34m'z'\u001b[0m\u001b[0;34m,\u001b[0m \u001b[0;34m'y'\u001b[0m\u001b[0;34m]\u001b[0m\u001b[0;34m)\u001b[0m\u001b[0;34m\u001b[0m\u001b[0m\n",
      "\u001b[0;32m/Users/yoachim/gitRepos/sims_maf/python/lsst/sims/maf/db/Database.pyc\u001b[0m in \u001b[0;36m__init__\u001b[0;34m(self, database, driver, host, port, dbTables, defaultdbTables, chunksize, longstrings, verbose)\u001b[0m\n\u001b[1;32m     68\u001b[0m         \u001b[0;32mif\u001b[0m \u001b[0mdriver\u001b[0m\u001b[0;34m==\u001b[0m\u001b[0;34m'sqlite'\u001b[0m\u001b[0;34m:\u001b[0m\u001b[0;34m\u001b[0m\u001b[0m\n\u001b[1;32m     69\u001b[0m             \u001b[0;32mif\u001b[0m \u001b[0;32mnot\u001b[0m \u001b[0mos\u001b[0m\u001b[0;34m.\u001b[0m\u001b[0mpath\u001b[0m\u001b[0;34m.\u001b[0m\u001b[0misfile\u001b[0m\u001b[0;34m(\u001b[0m\u001b[0mdatabase\u001b[0m\u001b[0;34m)\u001b[0m\u001b[0;34m:\u001b[0m\u001b[0;34m\u001b[0m\u001b[0m\n\u001b[0;32m---> 70\u001b[0;31m                 \u001b[0;32mraise\u001b[0m \u001b[0mIOError\u001b[0m\u001b[0;34m(\u001b[0m\u001b[0;34m'Sqlite database file \"%s\" not found.'\u001b[0m \u001b[0;34m%\u001b[0m\u001b[0;34m(\u001b[0m\u001b[0mdatabase\u001b[0m\u001b[0;34m)\u001b[0m\u001b[0;34m)\u001b[0m\u001b[0;34m\u001b[0m\u001b[0m\n\u001b[0m\u001b[1;32m     71\u001b[0m         \u001b[0;31m# Add default values to provided input dictionaries (if not present in input dictionaries)\u001b[0m\u001b[0;34m\u001b[0m\u001b[0;34m\u001b[0m\u001b[0m\n\u001b[1;32m     72\u001b[0m         \u001b[0;32mif\u001b[0m \u001b[0mdbTables\u001b[0m \u001b[0;34m==\u001b[0m \u001b[0mNone\u001b[0m\u001b[0;34m:\u001b[0m\u001b[0;34m\u001b[0m\u001b[0m\n",
      "\u001b[0;31mIOError\u001b[0m: Sqlite database file \"ops2_1098_sqlite.db\" not found."
     ]
    }
   ],
   "source": [
    "outDir ='Rolling'\n",
    "dbFile = 'ops2_1098_sqlite.db'\n",
    "opsimdb = utils.connectOpsimDb(dbFile)\n",
    "resultsDb = db.ResultsDb(outDir=outDir)\n",
    "nightLimits = (np.arange(3)+1)*365\n",
    "nightLimits = np.append(nightLimits, 3653.)\n",
    "nside = 64"
   ]
  },
  {
   "cell_type": "code",
   "execution_count": null,
   "metadata": {
    "collapsed": true
   },
   "outputs": [],
   "source": [
    "# parameters for SNe\n",
    "peaks = {'uPeak':25.9, 'gPeak':23.6, 'rPeak':22.6, 'iPeak':22.7, 'zPeak':22.7,'yPeak':22.8}\n",
    "peakTime = 15\n",
    "transDuration = peakTime+30 # Days"
   ]
  },
  {
   "cell_type": "code",
   "execution_count": null,
   "metadata": {
    "collapsed": false
   },
   "outputs": [],
   "source": [
    "bundleList = []\n",
    "plotDict ={}\n",
    "pdL = [{'colorMin':0,'colorMax':100}, {'colorMin':40,'colorMax':100},\n",
    "       {'colorMin':40,'colorMax':120},{'colorMin':200,'colorMax':400}]\n",
    "sm = metrics.MedianMetric()\n",
    "runName='ops2_1098'\n",
    "for night,pd in zip(nightLimits,pdL):\n",
    "    metric = metrics.CountMetric(col='expMJD')\n",
    "    slicer = slicers.HealpixSlicer(nside=nside,lonCol='ditheredRA',latCol='ditheredDec')\n",
    "    sql = 'filter = \"r\" and night < %i' % night\n",
    "    bundleList.append(metricBundles.MetricBundle(metric,slicer,sql, plotDict=pd, \n",
    "                                                 summaryMetrics=sm, runName=runName))\n",
    "    metric = metrics.InterNightGapsMetric(metricName='Median Inter-Night Gap')\n",
    "    bundleList.append(metricBundles.MetricBundle(metric,slicer,sql, runName=runName,\n",
    "                                                 plotDict={'colorMin':0,'colorMax':30, 'xMin':0,'xMax':30}))\n",
    "\n",
    "    metric = metrics.TransientMetric(riseSlope= -2./peakTime, declineSlope=1.4/30., \n",
    "                                      transDuration=transDuration, peakTime=peakTime, surveyDuration=night/365.25, \n",
    "                                      nFilters=3, nPrePeak=3, nPerLC=2, **peaks)\n",
    "    sql = '(filter=\"r\" or filter=\"g\" or filter=\"i\" or filter=\"z\") and night < %i' % (night)\n",
    "    bundleList.append(metricBundles.MetricBundle(metric,slicer,sql, runName=runName,\n",
    "                                                 plotDict={})"
   ]
  },
  {
   "cell_type": "code",
   "execution_count": null,
   "metadata": {
    "collapsed": false
   },
   "outputs": [],
   "source": [
    "bd = metricBundles.makeBundlesDictFromList(bundleList)\n",
    "bg =  metricBundles.MetricBundleGroup(bd, opsimdb,\n",
    "                                      outDir=outDir, resultsDb=resultsDb)"
   ]
  },
  {
   "cell_type": "code",
   "execution_count": null,
   "metadata": {
    "collapsed": false
   },
   "outputs": [],
   "source": []
  },
  {
   "cell_type": "code",
   "execution_count": 4,
   "metadata": {
    "collapsed": false
   },
   "outputs": [
    {
     "ename": "NameError",
     "evalue": "name 'bg' is not defined",
     "output_type": "error",
     "traceback": [
      "\u001b[0;31m---------------------------------------------------------------------------\u001b[0m",
      "\u001b[0;31mNameError\u001b[0m                                 Traceback (most recent call last)",
      "\u001b[0;32m<ipython-input-4-41ecca778e76>\u001b[0m in \u001b[0;36m<module>\u001b[0;34m()\u001b[0m\n\u001b[0;32m----> 1\u001b[0;31m \u001b[0mbg\u001b[0m\u001b[0;34m.\u001b[0m\u001b[0mrunAll\u001b[0m\u001b[0;34m(\u001b[0m\u001b[0;34m)\u001b[0m\u001b[0;34m\u001b[0m\u001b[0m\n\u001b[0m\u001b[1;32m      2\u001b[0m \u001b[0mbg\u001b[0m\u001b[0;34m.\u001b[0m\u001b[0mplotAll\u001b[0m\u001b[0;34m(\u001b[0m\u001b[0mclosefigs\u001b[0m\u001b[0;34m=\u001b[0m\u001b[0mFalse\u001b[0m\u001b[0;34m)\u001b[0m\u001b[0;34m\u001b[0m\u001b[0m\n",
      "\u001b[0;31mNameError\u001b[0m: name 'bg' is not defined"
     ]
    }
   ],
   "source": [
    "bg.runAll()\n",
    "bg.plotAll(closefigs=False)"
   ]
  },
  {
   "cell_type": "code",
   "execution_count": null,
   "metadata": {
    "collapsed": false
   },
   "outputs": [],
   "source": [
    "for bundle in bundleList:\n",
    "    if len(bundle.summaryValues) > 0:\n",
    "        print bundle.sqlconstraint, bundle.summaryValues"
   ]
  },
  {
   "cell_type": "code",
   "execution_count": null,
   "metadata": {
    "collapsed": false
   },
   "outputs": [],
   "source": [
    "dbFile = 'enigma_1260_sqlite.db' # Cheese2\n",
    "opsimdb = utils.connectOpsimDb(dbFile)\n",
    "bundleList = []\n",
    "plotDict ={}\n",
    "sm = metrics.MedianMetric()\n",
    "runName='enigma_1260'\n",
    "for night,pd in zip(nightLimits,pdL):\n",
    "    metric = metrics.CountMetric(col='expMJD')\n",
    "    slicer = slicers.HealpixSlicer(nside=nside,lonCol='ditheredRA',latCol='ditheredDec')\n",
    "    sql = 'filter = \"r\" and night < %i' % night\n",
    "    bundleList.append(metricBundles.MetricBundle(metric,slicer,sql, plotDict=pd, \n",
    "                                                 runName=runName, summaryMetrics=sm))\n",
    "    metric = metrics.InterNightGapsMetric(metricName='Median Inter-Night Gap')\n",
    "    bundleList.append(metricBundles.MetricBundle(metric,slicer,sql, runName=runName,\n",
    "                                                 plotDict={'colorMin':0,'colorMax':30, 'xMin':0,'xMax':30}))\n",
    "bd = metricBundles.makeBundlesDictFromList(bundleList)\n",
    "bg =  metricBundles.MetricBundleGroup(bd, opsimdb,\n",
    "                                      outDir=outDir, resultsDb=resultsDb)"
   ]
  },
  {
   "cell_type": "code",
   "execution_count": 5,
   "metadata": {
    "collapsed": false
   },
   "outputs": [
    {
     "ename": "NameError",
     "evalue": "name 'bg' is not defined",
     "output_type": "error",
     "traceback": [
      "\u001b[0;31m---------------------------------------------------------------------------\u001b[0m",
      "\u001b[0;31mNameError\u001b[0m                                 Traceback (most recent call last)",
      "\u001b[0;32m<ipython-input-5-41ecca778e76>\u001b[0m in \u001b[0;36m<module>\u001b[0;34m()\u001b[0m\n\u001b[0;32m----> 1\u001b[0;31m \u001b[0mbg\u001b[0m\u001b[0;34m.\u001b[0m\u001b[0mrunAll\u001b[0m\u001b[0;34m(\u001b[0m\u001b[0;34m)\u001b[0m\u001b[0;34m\u001b[0m\u001b[0m\n\u001b[0m\u001b[1;32m      2\u001b[0m \u001b[0mbg\u001b[0m\u001b[0;34m.\u001b[0m\u001b[0mplotAll\u001b[0m\u001b[0;34m(\u001b[0m\u001b[0mclosefigs\u001b[0m\u001b[0;34m=\u001b[0m\u001b[0mFalse\u001b[0m\u001b[0;34m)\u001b[0m\u001b[0;34m\u001b[0m\u001b[0m\n",
      "\u001b[0;31mNameError\u001b[0m: name 'bg' is not defined"
     ]
    }
   ],
   "source": [
    "bg.runAll()\n",
    "bg.plotAll(closefigs=False)"
   ]
  },
  {
   "cell_type": "code",
   "execution_count": null,
   "metadata": {
    "collapsed": false
   },
   "outputs": [],
   "source": [
    "for bundle in bundleList:\n",
    "    if len(bundle.summaryValues) > 0:\n",
    "        print bundle.sqlconstraint, bundle.summaryValues"
   ]
  },
  {
   "cell_type": "code",
   "execution_count": null,
   "metadata": {
    "collapsed": true
   },
   "outputs": [],
   "source": []
  }
 ],
 "metadata": {
  "kernelspec": {
   "display_name": "Python 2",
   "language": "python",
   "name": "python2"
  },
  "language_info": {
   "codemirror_mode": {
    "name": "ipython",
    "version": 2
   },
   "file_extension": ".py",
   "mimetype": "text/x-python",
   "name": "python",
   "nbconvert_exporter": "python",
   "pygments_lexer": "ipython2",
   "version": "2.7.9"
  }
 },
 "nbformat": 4,
 "nbformat_minor": 0
}
